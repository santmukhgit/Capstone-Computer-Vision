{
 "cells": [
  {
   "cell_type": "markdown",
   "metadata": {},
   "source": [
    "COMPUTER VISION CAPSTONE PROJECT AIML OBJECT DETECTION - CAR"
   ]
  },
  {
   "cell_type": "code",
   "execution_count": 8,
   "metadata": {},
   "outputs": [
    {
     "name": "stdout",
     "output_type": "stream",
     "text": [
      "+------+----------------------------+-------------+\n",
      "| S.NO |          Contents          | Cell Number |\n",
      "+------+----------------------------+-------------+\n",
      "|  1   |     Problem Statement      |      8      |\n",
      "|  2   |        Introduction        |      10     |\n",
      "|  3   |       Libraries Used       |      12     |\n",
      "|  4   | Data Handling - Split Data |      14     |\n",
      "|  4A  |    Split Data - Classes    |      14     |\n",
      "|  4B  |  Split Data - annotations  |      15     |\n",
      "|  5   |  Result 1 - bounding box   |      16     |\n",
      "|  6   |      Build CNN Model       |      17     |\n",
      "|  6   |      Build CNN Model       |      17     |\n",
      "|  6A  |      Build CNN Model       |      17     |\n",
      "|  6B  |      Build CNN Model       |      17     |\n",
      "+------+----------------------------+-------------+\n"
     ]
    }
   ],
   "source": [
    "from prettytable import PrettyTable\n",
    "\n",
    "# Create a PrettyTable object\n",
    "table = PrettyTable()\n",
    "\n",
    "# Define the columns\n",
    "table.field_names = [\"S.NO\", \"Contents\", \"Cell Number\"]\n",
    "\n",
    "# Add rows\n",
    "table.add_row([1, \"Problem Statement\", 8 ])\n",
    "table.add_row([2, \"Introduction\", 10])\n",
    "table.add_row([3, \"Libraries Used\", 12])\n",
    "table.add_row([4, \"Data Handling - Split Data\", 14 ])\n",
    "table.add_row([\"4A\", \"Split Data - Classes\", 14])\n",
    "table.add_row([\"4B\", \"Split Data - annotations\", 15])\n",
    "table.add_row([5, \"Result 1 - bounding box\", 16 ])\n",
    "table.add_row([6, \"Build CNN Model\", 17 ])\n",
    "table.add_row([6, \"Build CNN Model\", 17 ])\n",
    "table.add_row([\"6A\", \"Build CNN Model\", 17 ]) ## type U Net\n",
    "table.add_row([\"6B\", \"Build CNN Model\", 17 ]) ## type VGNet\n",
    "\n",
    "\n",
    "\n",
    "\n",
    "# Print the table\n",
    "print(table)"
   ]
  },
  {
   "cell_type": "markdown",
   "metadata": {},
   "source": [
    "Problem Statement \n",
    "\n"
   ]
  },
  {
   "cell_type": "markdown",
   "metadata": {},
   "source": [
    "Computer vision can be used to automate supervision and generate action appropriate action trigger if the event is\n",
    "predicted from the image of interest. For example a car moving on the road can be easily identified by a camera as make of\n",
    "the car, type, colour, number plates etc.\n",
    "\n",
    "Design a DL based car identification model."
   ]
  },
  {
   "cell_type": "markdown",
   "metadata": {},
   "source": [
    "Introduction"
   ]
  },
  {
   "cell_type": "markdown",
   "metadata": {},
   "source": []
  },
  {
   "cell_type": "markdown",
   "metadata": {},
   "source": [
    "Libraries Used"
   ]
  },
  {
   "cell_type": "code",
   "execution_count": null,
   "metadata": {},
   "outputs": [],
   "source": [
    "# import "
   ]
  }
 ],
 "metadata": {
  "kernelspec": {
   "display_name": "Python 3",
   "language": "python",
   "name": "python3"
  },
  "language_info": {
   "codemirror_mode": {
    "name": "ipython",
    "version": 3
   },
   "file_extension": ".py",
   "mimetype": "text/x-python",
   "name": "python",
   "nbconvert_exporter": "python",
   "pygments_lexer": "ipython3",
   "version": "3.12.0"
  }
 },
 "nbformat": 4,
 "nbformat_minor": 2
}
